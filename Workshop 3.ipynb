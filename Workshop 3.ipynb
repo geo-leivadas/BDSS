{
 "cells": [
  {
   "cell_type": "markdown",
   "metadata": {},
   "source": [
    "# Workshop 3\n",
    "## Numpy\n",
    "\n",
    "Numpy is a very useful library that gives an alternative way to work with arrays. It also provides statistical functions and vector and matrix operations. To begin with, let's import it."
   ]
  },
  {
   "cell_type": "code",
   "execution_count": 4,
   "metadata": {},
   "outputs": [],
   "source": [
    "import numpy as np"
   ]
  },
  {
   "cell_type": "markdown",
   "metadata": {},
   "source": [
    "We can create a numpy array as follows:"
   ]
  },
  {
   "cell_type": "code",
   "execution_count": 5,
   "metadata": {},
   "outputs": [
    {
     "name": "stdout",
     "output_type": "stream",
     "text": [
      "[1 9 8 3]\n"
     ]
    }
   ],
   "source": [
    "a  = np.array([1,9,8,3])\n",
    "print(a)"
   ]
  },
  {
   "cell_type": "code",
   "execution_count": 6,
   "metadata": {},
   "outputs": [
    {
     "name": "stdout",
     "output_type": "stream",
     "text": [
      "[1, 9, 8, 3]\n",
      "[1 9 8 3]\n"
     ]
    }
   ],
   "source": [
    "l = [1,9,8,3]\n",
    "print(l)\n",
    "ltoa=np.array(l)\n",
    "print(ltoa)"
   ]
  },
  {
   "cell_type": "markdown",
   "metadata": {},
   "source": [
    "Sometimes we might want to apply an operation to an entire list at once. If we try this with our generic python list, we will see it does not work."
   ]
  },
  {
   "cell_type": "code",
   "execution_count": 7,
   "metadata": {
    "scrolled": true
   },
   "outputs": [
    {
     "ename": "TypeError",
     "evalue": "can only concatenate list (not \"int\") to list",
     "output_type": "error",
     "traceback": [
      "\u001b[1;31m---------------------------------------------------------------------------\u001b[0m",
      "\u001b[1;31mTypeError\u001b[0m                                 Traceback (most recent call last)",
      "\u001b[1;32m<ipython-input-7-246250875576>\u001b[0m in \u001b[0;36m<module>\u001b[1;34m\u001b[0m\n\u001b[1;32m----> 1\u001b[1;33m \u001b[0mprint\u001b[0m\u001b[1;33m(\u001b[0m\u001b[0ml\u001b[0m\u001b[1;33m+\u001b[0m\u001b[1;36m10\u001b[0m\u001b[1;33m)\u001b[0m\u001b[1;33m\u001b[0m\u001b[1;33m\u001b[0m\u001b[0m\n\u001b[0m",
      "\u001b[1;31mTypeError\u001b[0m: can only concatenate list (not \"int\") to list"
     ]
    }
   ],
   "source": [
    "print(l+10)"
   ]
  },
  {
   "cell_type": "markdown",
   "metadata": {},
   "source": [
    "However, it does work with numpy arrays."
   ]
  },
  {
   "cell_type": "code",
   "execution_count": 8,
   "metadata": {},
   "outputs": [
    {
     "name": "stdout",
     "output_type": "stream",
     "text": [
      "[11 19 18 13]\n"
     ]
    }
   ],
   "source": [
    "print(a+10)"
   ]
  },
  {
   "cell_type": "code",
   "execution_count": 9,
   "metadata": {},
   "outputs": [
    {
     "name": "stdout",
     "output_type": "stream",
     "text": [
      "[ 2 18 16  6]\n"
     ]
    }
   ],
   "source": [
    "print(a*2)"
   ]
  },
  {
   "cell_type": "markdown",
   "metadata": {},
   "source": [
    "We can check the shape of an array and the type of its elements."
   ]
  },
  {
   "cell_type": "code",
   "execution_count": 10,
   "metadata": {},
   "outputs": [
    {
     "name": "stdout",
     "output_type": "stream",
     "text": [
      "(4,)\n",
      "int32\n"
     ]
    }
   ],
   "source": [
    "print(a.shape)\n",
    "print(a.dtype)"
   ]
  },
  {
   "cell_type": "markdown",
   "metadata": {},
   "source": [
    "We can also create 2D arrays (and higher, but we're not going to worry about that)."
   ]
  },
  {
   "cell_type": "code",
   "execution_count": 27,
   "metadata": {
    "scrolled": true
   },
   "outputs": [
    {
     "name": "stdout",
     "output_type": "stream",
     "text": [
      "(2, 3)\n"
     ]
    }
   ],
   "source": [
    "b = np.array([(1,2,3),\n",
    "              (4,5,6)])\n",
    "print(b.shape)"
   ]
  },
  {
   "cell_type": "markdown",
   "metadata": {},
   "source": [
    "We can easily create an arrasy of certain dimensions and initialise all its values to zero as follows."
   ]
  },
  {
   "cell_type": "code",
   "execution_count": 26,
   "metadata": {},
   "outputs": [
    {
     "name": "stdout",
     "output_type": "stream",
     "text": [
      "float64\n",
      "[[0. 0. 0.]\n",
      " [0. 0. 0.]]\n"
     ]
    }
   ],
   "source": [
    "f = np.zeros((2,3))\n",
    "print(f.dtype)\n",
    "print(f)"
   ]
  },
  {
   "cell_type": "markdown",
   "metadata": {},
   "source": [
    "We can also choose what type we want the elements to be."
   ]
  },
  {
   "cell_type": "code",
   "execution_count": 13,
   "metadata": {},
   "outputs": [
    {
     "name": "stdout",
     "output_type": "stream",
     "text": [
      "[[0 0 0]\n",
      " [0 0 0]]\n"
     ]
    }
   ],
   "source": [
    "print(np.zeros((2,3), dtype=np.int32))"
   ]
  },
  {
   "cell_type": "markdown",
   "metadata": {},
   "source": [
    "We can similarly create an array with all its values initialised to one."
   ]
  },
  {
   "cell_type": "code",
   "execution_count": 14,
   "metadata": {},
   "outputs": [
    {
     "name": "stdout",
     "output_type": "stream",
     "text": [
      "[[1 1 1]\n",
      " [1 1 1]]\n"
     ]
    }
   ],
   "source": [
    "print(np.ones((2,3), dtype=np.int16))"
   ]
  },
  {
   "cell_type": "markdown",
   "metadata": {},
   "source": [
    " We can index numpy arrays with the same logic as generic python arrays."
   ]
  },
  {
   "cell_type": "code",
   "execution_count": 28,
   "metadata": {},
   "outputs": [
    {
     "name": "stdout",
     "output_type": "stream",
     "text": [
      "First row: [1 2 3]\n"
     ]
    }
   ],
   "source": [
    "print('First row:', b[0])"
   ]
  },
  {
   "cell_type": "code",
   "execution_count": 30,
   "metadata": {},
   "outputs": [
    {
     "name": "stdout",
     "output_type": "stream",
     "text": [
      "Second element of first row:  2\n",
      "Second element of first row:  2\n"
     ]
    }
   ],
   "source": [
    "print('Second element of first row: ', b[0][1])\n",
    "print('Second element of first row: ', b[0,1])"
   ]
  },
  {
   "cell_type": "code",
   "execution_count": 31,
   "metadata": {},
   "outputs": [
    {
     "name": "stdout",
     "output_type": "stream",
     "text": [
      "Second column: [2 5]\n"
     ]
    }
   ],
   "source": [
    "print('Second column:', b[:,1])"
   ]
  },
  {
   "cell_type": "markdown",
   "metadata": {},
   "source": [
    "We can reshape an array as follows.\n"
   ]
  },
  {
   "cell_type": "code",
   "execution_count": 24,
   "metadata": {},
   "outputs": [
    {
     "data": {
      "text/plain": [
       "array([[1, 2],\n",
       "       [3, 4],\n",
       "       [5, 6],\n",
       "       [7, 8]])"
      ]
     },
     "execution_count": 24,
     "metadata": {},
     "output_type": "execute_result"
    }
   ],
   "source": [
    "d = np.array([(1,2,3,4,5,6,7,8)])\n",
    "d.reshape(4,2)"
   ]
  },
  {
   "cell_type": "markdown",
   "metadata": {},
   "source": [
    "If we only care about there being two elements in each row and aren't particularly interested in the number of rows, we can do the following."
   ]
  },
  {
   "cell_type": "code",
   "execution_count": 25,
   "metadata": {},
   "outputs": [
    {
     "data": {
      "text/plain": [
       "array([[1, 2],\n",
       "       [3, 4],\n",
       "       [5, 6],\n",
       "       [7, 8]])"
      ]
     },
     "execution_count": 25,
     "metadata": {},
     "output_type": "execute_result"
    }
   ],
   "source": [
    "d.reshape(-1,2)"
   ]
  },
  {
   "cell_type": "markdown",
   "metadata": {},
   "source": [
    "We can also append elements to a numpy array."
   ]
  },
  {
   "cell_type": "code",
   "execution_count": 177,
   "metadata": {},
   "outputs": [
    {
     "name": "stdout",
     "output_type": "stream",
     "text": [
      "[ 1  2  3 10 11 12]\n"
     ]
    }
   ],
   "source": [
    "a = np.array([1, 2, 3])\n",
    "newArray = np.append (a, [10, 11, 12])\n",
    "print(newArray)"
   ]
  },
  {
   "cell_type": "markdown",
   "metadata": {},
   "source": [
    "### Exercises:\n",
    "\n",
    "Write a function that, given a number x that is a multiple of 2, returns a numpy list with elements 1,...,x, arranged in rows of 2."
   ]
  },
  {
   "cell_type": "code",
   "execution_count": null,
   "metadata": {},
   "outputs": [],
   "source": []
  },
  {
   "cell_type": "markdown",
   "metadata": {},
   "source": [
    "Write a function that creates an x by x identity matrix."
   ]
  },
  {
   "cell_type": "code",
   "execution_count": null,
   "metadata": {},
   "outputs": [],
   "source": []
  },
  {
   "cell_type": "markdown",
   "metadata": {},
   "source": [
    "We can find the dot product of two vectors."
   ]
  },
  {
   "cell_type": "code",
   "execution_count": 39,
   "metadata": {},
   "outputs": [
    {
     "data": {
      "text/plain": [
       "array([[32]])"
      ]
     },
     "execution_count": 39,
     "metadata": {},
     "output_type": "execute_result"
    }
   ],
   "source": [
    "c=np.array([(1,2,3)])\n",
    "d=np.array([(4,5,6)])\n",
    "d=d.reshape(3,1)\n",
    "np.dot(c,d)"
   ]
  },
  {
   "cell_type": "markdown",
   "metadata": {},
   "source": [
    "We can also do matrix multiplication."
   ]
  },
  {
   "cell_type": "code",
   "execution_count": 50,
   "metadata": {},
   "outputs": [
    {
     "data": {
      "text/plain": [
       "array([[10, 20],\n",
       "       [20, 45]])"
      ]
     },
     "execution_count": 50,
     "metadata": {},
     "output_type": "execute_result"
    }
   ],
   "source": [
    "e=np.array([(1,3),(1,8)])\n",
    "f=np.array([(4,5),(2,5)])\n",
    "np.matmul(e,f)"
   ]
  },
  {
   "cell_type": "markdown",
   "metadata": {},
   "source": [
    "Let's talk a bit about distributions. Numpy allows us to sample probability distributions and has some convenient functions for learning things about out data."
   ]
  },
  {
   "cell_type": "code",
   "execution_count": 54,
   "metadata": {},
   "outputs": [
    {
     "name": "stdout",
     "output_type": "stream",
     "text": [
      "[4.93463833 6.22102685 5.69592329 4.46812131 4.73505683]\n"
     ]
    }
   ],
   "source": [
    "normal_array = np.random.normal(5, 0.5, 5)\n",
    "print(normal_array)"
   ]
  },
  {
   "cell_type": "markdown",
   "metadata": {},
   "source": [
    "This takes five samples from a normal distribution with mean 5 and standard deviation 0.5. We can then check various properties of the datapoints we got."
   ]
  },
  {
   "cell_type": "code",
   "execution_count": 55,
   "metadata": {},
   "outputs": [
    {
     "name": "stdout",
     "output_type": "stream",
     "text": [
      "5.2109533245607675\n",
      "0.6496262379338021\n"
     ]
    }
   ],
   "source": [
    "print(np.mean(normal_array))\n",
    "print(np.std(normal_array))"
   ]
  },
  {
   "cell_type": "markdown",
   "metadata": {},
   "source": [
    "We can see that the mean and standard deviation of our data is close to that of the distribution they were drawn from, but not identical. Let's see what happens if we increase the sample size."
   ]
  },
  {
   "cell_type": "code",
   "execution_count": 56,
   "metadata": {},
   "outputs": [
    {
     "name": "stdout",
     "output_type": "stream",
     "text": [
      "4.9407149878401775\n",
      "0.5494606024478554\n"
     ]
    }
   ],
   "source": [
    "normal_array = np.random.normal(5, 0.5, 50)\n",
    "print(np.mean(normal_array))\n",
    "print(np.std(normal_array))"
   ]
  },
  {
   "cell_type": "code",
   "execution_count": 57,
   "metadata": {},
   "outputs": [
    {
     "name": "stdout",
     "output_type": "stream",
     "text": [
      "5.015332996472651\n",
      "0.4957888828141434\n"
     ]
    }
   ],
   "source": [
    "normal_array = np.random.normal(5, 0.5, 500)\n",
    "print(np.mean(normal_array))\n",
    "print(np.std(normal_array))"
   ]
  },
  {
   "cell_type": "code",
   "execution_count": 73,
   "metadata": {},
   "outputs": [
    {
     "name": "stdout",
     "output_type": "stream",
     "text": [
      "4.998661680801669\n",
      "0.49858144230739565\n"
     ]
    }
   ],
   "source": [
    "normal_array = np.random.normal(5, 0.5, 50000)\n",
    "print(np.mean(normal_array))\n",
    "print(np.std(normal_array))"
   ]
  },
  {
   "cell_type": "markdown",
   "metadata": {},
   "source": [
    "## Matplotlib\n",
    "We are now going to have a look at another very useful library, matplotlib. It is inspired by matlab and helps us plot data. Let's have a look at plotting a simple histogram."
   ]
  },
  {
   "cell_type": "code",
   "execution_count": 94,
   "metadata": {},
   "outputs": [
    {
     "data": {
      "text/plain": [
       "<function matplotlib.pyplot.show(*args, **kw)>"
      ]
     },
     "execution_count": 94,
     "metadata": {},
     "output_type": "execute_result"
    },
    {
     "data": {
      "image/png": "[encoded data removed]",
      "text/plain": [
       "<Figure size 432x288 with 1 Axes>"
      ]
     },
     "metadata": {
      "needs_background": "light"
     },
     "output_type": "display_data"
    }
   ],
   "source": [
    "import matplotlib.pyplot as plt\n",
    "\n",
    "plt.hist(normal_array, bins=100)\n",
    "plt.show"
   ]
  },
  {
   "cell_type": "markdown",
   "metadata": {},
   "source": [
    "### Exercise:\n",
    "Use np.random.poisson to sample a Poisson distribution, then plot the data as above."
   ]
  },
  {
   "cell_type": "code",
   "execution_count": null,
   "metadata": {},
   "outputs": [],
   "source": []
  },
  {
   "cell_type": "markdown",
   "metadata": {},
   "source": [
    "We can use np.linspace to generate an array of values from a start value to an end value with a given step."
   ]
  },
  {
   "cell_type": "code",
   "execution_count": 145,
   "metadata": {},
   "outputs": [
    {
     "name": "stdout",
     "output_type": "stream",
     "text": [
      "[ 1.  2.  3.  4.  5.  6.  7.  8.  9. 10.]\n"
     ]
    }
   ],
   "source": [
    "print(np.linspace(1,10,10))"
   ]
  },
  {
   "cell_type": "code",
   "execution_count": 139,
   "metadata": {},
   "outputs": [
    {
     "data": {
      "text/plain": [
       "[<matplotlib.lines.Line2D at 0x265e9c96348>]"
      ]
     },
     "execution_count": 139,
     "metadata": {},
     "output_type": "execute_result"
    },
    {
     "data": {
      "image/png": "[encoded data removed]",
      "text/plain": [
       "<Figure size 432x288 with 1 Axes>"
      ]
     },
     "metadata": {
      "needs_background": "light"
     },
     "output_type": "display_data"
    }
   ],
   "source": [
    "xs=np.linspace(0, 10, 10)\n",
    "ys=(xs*2)+5\n",
    "plt.plot(xs,ys)"
   ]
  },
  {
   "cell_type": "code",
   "execution_count": 136,
   "metadata": {},
   "outputs": [
    {
     "data": {
      "text/plain": [
       "<function matplotlib.pyplot.show(*args, **kw)>"
      ]
     },
     "execution_count": 136,
     "metadata": {},
     "output_type": "execute_result"
    },
    {
     "data": {
      "image/png": "[encoded data removed]",
      "text/plain": [
       "<Figure size 432x288 with 1 Axes>"
      ]
     },
     "metadata": {
      "needs_background": "light"
     },
     "output_type": "display_data"
    }
   ],
   "source": [
    "xs=np.linspace(0, 10, 10)\n",
    "ys=xs**2 + xs*3 +4\n",
    "plt.plot(xs,ys)\n",
    "plt.show"
   ]
  },
  {
   "cell_type": "code",
   "execution_count": 144,
   "metadata": {},
   "outputs": [
    {
     "data": {
      "text/plain": [
       "<function matplotlib.pyplot.show(*args, **kw)>"
      ]
     },
     "execution_count": 144,
     "metadata": {},
     "output_type": "execute_result"
    },
    {
     "data": {
      "image/png": "[encoded data removed]",
      "text/plain": [
       "<Figure size 432x288 with 1 Axes>"
      ]
     },
     "metadata": {
      "needs_background": "light"
     },
     "output_type": "display_data"
    }
   ],
   "source": [
    "import math\n",
    "xs=np.random.randint(0,20,20)\n",
    "ys=xs**2+xs*3 +4\n",
    "plt.scatter(xs,ys)\n",
    "plt.show"
   ]
  },
  {
   "cell_type": "markdown",
   "metadata": {},
   "source": [
    "We can also change the symbols we use on our plots."
   ]
  },
  {
   "cell_type": "code",
   "execution_count": 148,
   "metadata": {},
   "outputs": [
    {
     "data": {
      "image/png": "[encoded data removed]",
      "text/plain": [
       "<Figure size 432x288 with 1 Axes>"
      ]
     },
     "metadata": {
      "needs_background": "light"
     },
     "output_type": "display_data"
    }
   ],
   "source": [
    "t = np.arange(0., 5., 0.2)\n",
    "\n",
    "# red dashes, blue squares and green triangles\n",
    "plt.plot(t, t, 'r--', t, t**2, 'bs', t, t**3, 'g^')\n",
    "plt.show()"
   ]
  },
  {
   "cell_type": "markdown",
   "metadata": {},
   "source": [
    "There is a lot more we can do with this library! We encourage you to try things for yourself, there is a lot of documentation and examples online."
   ]
  },
  {
   "cell_type": "markdown",
   "metadata": {},
   "source": [
    "Now that we've done the ground work, let's look at our first simple algorithm. The algorithm we are going to implement is called k-means. First, let's make some data."
   ]
  },
  {
   "cell_type": "code",
   "execution_count": 168,
   "metadata": {},
   "outputs": [
    {
     "data": {
      "text/plain": [
       "<function matplotlib.pyplot.show(*args, **kw)>"
      ]
     },
     "execution_count": 168,
     "metadata": {},
     "output_type": "execute_result"
    },
    {
     "data": {
      "image/png": "[encoded data removed]",
      "text/plain": [
       "<Figure size 432x288 with 1 Axes>"
      ]
     },
     "metadata": {
      "needs_background": "light"
     },
     "output_type": "display_data"
    }
   ],
   "source": [
    "xsA=np.random.normal(2, 0.5, 20)\n",
    "ysA=np.random.normal(3, 1, 20)\n",
    "\n",
    "xsB=np.random.normal(4, 0.8, 20)\n",
    "ysB=np.random.normal(7, 0.5, 20)\n",
    "\n",
    "\n",
    "plt.scatter(xsA, ysA)\n",
    "plt.scatter(xsB, ysB)\n",
    "\n",
    "plt.show"
   ]
  },
  {
   "cell_type": "markdown",
   "metadata": {},
   "source": [
    "We know these are two separate sets of data, as well as their mean and variance, because we generated them. What if we didn't know these things and needed to separate the data? "
   ]
  },
  {
   "cell_type": "code",
   "execution_count": 169,
   "metadata": {},
   "outputs": [
    {
     "data": {
      "text/plain": [
       "<function matplotlib.pyplot.show(*args, **kw)>"
      ]
     },
     "execution_count": 169,
     "metadata": {},
     "output_type": "execute_result"
    },
    {
     "data": {
      "image/png": "[encoded data removed]",
      "text/plain": [
       "<Figure size 432x288 with 1 Axes>"
      ]
     },
     "metadata": {
      "needs_background": "light"
     },
     "output_type": "display_data"
    }
   ],
   "source": [
    "xs=np.concatenate((xsA,xsB))\n",
    "ys=np.concatenate((ysA,ysB))\n",
    "\n",
    "plt.scatter(xs,ys)\n",
    "plt.show"
   ]
  },
  {
   "cell_type": "markdown",
   "metadata": {},
   "source": [
    "One way to go about it is to put them in two \"clusters\". For our algorithm, we first need to randomly pick two centers for our clusters."
   ]
  },
  {
   "cell_type": "code",
   "execution_count": 185,
   "metadata": {},
   "outputs": [],
   "source": [
    "x1=np.random.randint(0,6)\n",
    "y1=np.random.randint(1,8)\n",
    "\n",
    "x2=np.random.randint(0,6)\n",
    "y2=np.random.randint(1,8)"
   ]
  },
  {
   "cell_type": "markdown",
   "metadata": {},
   "source": [
    "Then, we need to check for each point which cluster it is closer to."
   ]
  },
  {
   "cell_type": "code",
   "execution_count": 192,
   "metadata": {},
   "outputs": [
    {
     "data": {
      "text/plain": [
       "(array([1.61230864, 2.04841679, 2.22154999, 2.47867493, 2.44602129,\n",
       "        2.16748866, 1.44059662, 0.93664704, 1.67329556, 1.80221211,\n",
       "        1.69699067, 2.74443683, 1.80358561, 1.58392541, 2.03851265,\n",
       "        1.33173226, 1.97390802]),\n",
       " array([3.32381241, 3.6609705 , 3.02074992, 2.19660245, 3.53274839,\n",
       "        2.65099509, 2.54824123, 3.77743062, 1.99676027, 4.09833034,\n",
       "        2.67025782, 3.08781072, 2.82584813, 3.27222563, 3.51334733,\n",
       "        2.78463952, 3.1982156 ]),\n",
       " array([2.91223995, 2.0837426 , 2.65014763, 3.97903061, 2.40268148,\n",
       "        5.1293282 , 2.48894416, 3.09538309, 5.58911929, 4.79796811,\n",
       "        5.78738335, 4.21411265, 4.06105418, 3.65602768, 3.80894465,\n",
       "        4.71671997, 3.60603735, 2.50991574, 4.7175018 , 2.59093724,\n",
       "        4.18226405, 4.2749448 , 3.60914133]),\n",
       " array([4.09995521, 4.28571763, 4.90227473, 7.14532394, 6.71201248,\n",
       "        6.62198393, 7.47116667, 7.71418586, 7.80979521, 6.57844718,\n",
       "        6.95288007, 7.49166373, 7.3860558 , 6.69295193, 6.53130354,\n",
       "        6.74258406, 6.4731078 , 6.7721524 , 7.1135986 , 5.78959922,\n",
       "        7.94238164, 7.48561321, 6.50580122]))"
      ]
     },
     "execution_count": 192,
     "metadata": {},
     "output_type": "execute_result"
    },
    {
     "data": {
      "image/png": "[encoded data removed]",
      "text/plain": [
       "<Figure size 432x288 with 1 Axes>"
      ]
     },
     "metadata": {
      "needs_background": "light"
     },
     "output_type": "display_data"
    }
   ],
   "source": [
    "import math\n",
    "\n",
    "def distance(x1,y1,x2,y2):\n",
    "    return math.sqrt((x1-x2)**2+(y1-y2)**2)\n",
    "\n",
    "def findclusters(xs,ys,x1,y1,x2,y2):\n",
    "    Axs=np.array([])\n",
    "    Ays=np.array([])\n",
    "    Bxs=np.array([])\n",
    "    Bys=np.array([])\n",
    "\n",
    "    for i in range(len(xs)):\n",
    "        if distance(xs[i],ys[i],x1,y1)<distance(xs[i],ys[i],x2,y2):\n",
    "            Axs=np.append(Axs,xs[i])\n",
    "            Ays=np.append(Ays,ys[i])\n",
    "        else:\n",
    "            Bxs=np.append(Bxs,xs[i])\n",
    "            Bys=np.append(Bys,ys[i])\n",
    "\n",
    "    plt.scatter(Axs,Ays)\n",
    "    plt.scatter(Bxs,Bys)\n",
    "    plt.show\n",
    "    return(Axs,Ays,Bxs,Bys)\n",
    "    \n",
    "findclusters(xs,ys,x1,y1,x2,y2)"
   ]
  },
  {
   "cell_type": "markdown",
   "metadata": {},
   "source": [
    "Once we've done this for all points we need to recalculate the cluster centers. We do that by taking the average x and y coordinates of each of the two lists."
   ]
  },
  {
   "cell_type": "code",
   "execution_count": 191,
   "metadata": {},
   "outputs": [
    {
     "name": "stdout",
     "output_type": "stream",
     "text": [
      "(2.971596824151315, 5.134488550149635)\n"
     ]
    }
   ],
   "source": [
    "def average(xs,ys):\n",
    "    x=sum(xs)/len(xs)\n",
    "    y=sum(ys)/len(ys)\n",
    "    return x,y\n",
    "print(average(xs,ys))"
   ]
  },
  {
   "cell_type": "markdown",
   "metadata": {},
   "source": [
    "We notice the as we run this, it gives better and better results. Congrats! You now know how to do a fundamental data processing algorithm! "
   ]
  },
  {
   "cell_type": "code",
   "execution_count": 193,
   "metadata": {},
   "outputs": [],
   "source": [
    "def kmeans(i,xs,ys,x1,y1,x2,y2):\n",
    "    for j in range(i):\n",
    "        Axs,Ays,Bxs,Bys=findclusters(xs,ys,x1,y1,x2,y2)\n",
    "        x1,y1=average(Axs,Ays)\n",
    "        x2,y2=average(Bxs,Bys)"
   ]
  },
  {
   "cell_type": "code",
   "execution_count": 196,
   "metadata": {},
   "outputs": [
    {
     "data": {
      "image/png": "[encoded data removed]",
      "text/plain": [
       "<Figure size 432x288 with 1 Axes>"
      ]
     },
     "metadata": {
      "needs_background": "light"
     },
     "output_type": "display_data"
    }
   ],
   "source": [
    "I=1\n",
    "kmeans(i,xs,ys,x1,y1,x2,y2)"
   ]
  },
  {
   "cell_type": "code",
   "execution_count": null,
   "metadata": {},
   "outputs": [],
   "source": []
  }
 ],
 "metadata": {
  "kernelspec": {
   "display_name": "Python 3",
   "language": "python",
   "name": "python3"
  },
  "language_info": {
   "codemirror_mode": {
    "name": "ipython",
    "version": 3
   },
   "file_extension": ".py",
   "mimetype": "text/x-python",
   "name": "python",
   "nbconvert_exporter": "python",
   "pygments_lexer": "ipython3",
   "version": "3.7.4"
  }
 },
 "nbformat": 4,
 "nbformat_minor": 2
}
